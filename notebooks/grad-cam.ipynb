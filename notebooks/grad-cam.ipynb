{
 "cells": [
  {
   "cell_type": "markdown",
   "id": "3e9827c3aec25732",
   "metadata": {},
   "source": [
    "# Import libraries\n",
    "Primerament, importem les llibreries. I carregar el learner de les fruites ja entrenat."
   ]
  },
  {
   "cell_type": "code",
   "id": "initial_id",
   "metadata": {
    "ExecuteTime": {
     "end_time": "2024-06-18T22:47:16.938349Z",
     "start_time": "2024-06-18T22:47:08.607605Z"
    }
   },
   "source": [
    "from fastai.vision.all import *"
   ],
   "execution_count": 1,
   "outputs": []
  },
  {
   "cell_type": "code",
   "id": "15b601353a7ec44e",
   "metadata": {
    "ExecuteTime": {
     "end_time": "2024-06-18T22:47:17.026503Z",
     "start_time": "2024-06-18T22:47:16.939355Z"
    }
   },
   "source": [
    "learner = load_learner('./learns/fruits.pkl')"
   ],
   "execution_count": 2,
   "outputs": []
  },
  {
   "cell_type": "code",
   "id": "3c37c7ac2473b50",
   "metadata": {
    "ExecuteTime": {
     "end_time": "2024-06-18T22:47:17.573688Z",
     "start_time": "2024-06-18T22:47:17.026503Z"
    }
   },
   "source": [
    "dls = ImageDataLoaders.from_folder(\n",
    "    \"./dataset/train\",\n",
    "    valid_pct=0.2,\n",
    "    seed=42,\n",
    "    item_tfms=Resize(224)\n",
    ")"
   ],
   "execution_count": 3,
   "outputs": []
  },
  {
   "cell_type": "markdown",
   "id": "6f4b6759ebca5df2",
   "metadata": {},
   "source": [
    "# Prediure Imatges\n",
    "Podem prediure imatges per comprovar el funcionament de learner."
   ]
  },
  {
   "cell_type": "code",
   "id": "af6da4fa042b3241",
   "metadata": {
    "ExecuteTime": {
     "end_time": "2024-06-18T22:47:17.672614Z",
     "start_time": "2024-06-18T22:47:17.574695Z"
    }
   },
   "source": [
    "image = PILImage.create(\"./dataset/train/Apple/Apple (5).png\")\n",
    "image.show()"
   ],
   "execution_count": 4,
   "outputs": []
  },
  {
   "cell_type": "code",
   "id": "714b762ab2172a48",
   "metadata": {
    "ExecuteTime": {
     "end_time": "2024-06-18T22:47:17.818233Z",
     "start_time": "2024-06-18T22:47:17.673623Z"
    }
   },
   "source": [
    "learner.predict(image)"
   ],
   "execution_count": 5,
   "outputs": []
  },
  {
   "cell_type": "markdown",
   "id": "a22ef4303410054",
   "metadata": {},
   "source": [
    "# Grad-CAM\n",
    "Trobar la forma de fer funcionar la Grad-CAM"
   ]
  },
  {
   "cell_type": "code",
   "id": "eec1f6bcd811d109",
   "metadata": {
    "ExecuteTime": {
     "end_time": "2024-06-18T22:47:17.824116Z",
     "start_time": "2024-06-18T22:47:17.818233Z"
    }
   },
   "source": [
    "x, = first(dls.test_dl([image]))"
   ],
   "execution_count": 6,
   "outputs": []
  },
  {
   "cell_type": "code",
   "id": "d0ff6878674103b4",
   "metadata": {
    "ExecuteTime": {
     "end_time": "2024-06-18T22:47:17.827552Z",
     "start_time": "2024-06-18T22:47:17.824116Z"
    }
   },
   "source": [
    "class Hook:\n",
    "    def hook_func(self, m, i, o):\n",
    "        self.stored = o.detach().clone()"
   ],
   "execution_count": 7,
   "outputs": []
  },
  {
   "cell_type": "code",
   "id": "bc86cd77e23266f5",
   "metadata": {
    "ExecuteTime": {
     "end_time": "2024-06-18T22:47:17.831121Z",
     "start_time": "2024-06-18T22:47:17.827552Z"
    }
   },
   "source": [
    "hook_output = Hook()\n",
    "hook = learner.model[0].register_forward_hook(hook_output.hook_func)"
   ],
   "execution_count": 8,
   "outputs": []
  },
  {
   "cell_type": "code",
   "id": "9b3b0cc6936b5442",
   "metadata": {
    "ExecuteTime": {
     "end_time": "2024-06-18T22:47:17.871746Z",
     "start_time": "2024-06-18T22:47:17.832128Z"
    }
   },
   "source": [
    "with torch.no_grad(): \n",
    "    output = learner.model.eval()(x)"
   ],
   "execution_count": 9,
   "outputs": []
  },
  {
   "cell_type": "code",
   "id": "7751726fe8261e9b",
   "metadata": {
    "ExecuteTime": {
     "end_time": "2024-06-18T22:47:17.878719Z",
     "start_time": "2024-06-18T22:47:17.873757Z"
    }
   },
   "source": [
    "act = hook_output.stored[0]\n",
    "F.softmax(output, dim=-1)"
   ],
   "execution_count": 10,
   "outputs": []
  },
  {
   "cell_type": "code",
   "id": "d53012a0376ec7c2",
   "metadata": {
    "ExecuteTime": {
     "end_time": "2024-06-18T22:47:17.898684Z",
     "start_time": "2024-06-18T22:47:17.879731Z"
    }
   },
   "source": [
    "x.shape"
   ],
   "execution_count": 11,
   "outputs": []
  },
  {
   "cell_type": "code",
   "id": "9f3388b5626094a1",
   "metadata": {
    "ExecuteTime": {
     "end_time": "2024-06-18T22:47:17.918597Z",
     "start_time": "2024-06-18T22:47:17.899692Z"
    }
   },
   "source": [
    "cam_map = torch.einsum('ck,kij->cij', learner.model[1][-1].weight, act)\n",
    "cam_map.shape"
   ],
   "execution_count": 12,
   "outputs": []
  },
  {
   "cell_type": "code",
   "id": "90e7c19df8ef246",
   "metadata": {
    "ExecuteTime": {
     "end_time": "2024-06-18T22:47:18.038366Z",
     "start_time": "2024-06-18T22:47:17.919606Z"
    }
   },
   "source": [
    "x_dec = TensorImage(dls.train.decode((x,))[0][0])\n",
    "_,ax = plt.subplots()\n",
    "x_dec.show(ctx=ax)\n",
    "ax.imshow(cam_map[1].detach().cpu(), alpha=0.6, extent=(0,224,224,0),\n",
    "              interpolation='bilinear', cmap='jet');"
   ],
   "execution_count": 13,
   "outputs": []
  },
  {
   "cell_type": "code",
   "id": "0605a2a5-f4ef-4ebc-92c4-48f5bb247c2f",
   "metadata": {
    "ExecuteTime": {
     "end_time": "2024-06-18T22:47:18.041120Z",
     "start_time": "2024-06-18T22:47:18.039373Z"
    }
   },
   "source": [],
   "execution_count": 13,
   "outputs": []
  }
 ],
 "metadata": {
  "kernelspec": {
   "display_name": "Python 3 (ipykernel)",
   "language": "python",
   "name": "python3"
  },
  "language_info": {
   "codemirror_mode": {
    "name": "ipython",
    "version": 3
   },
   "file_extension": ".py",
   "mimetype": "text/x-python",
   "name": "python",
   "nbconvert_exporter": "python",
   "pygments_lexer": "ipython3",
   "version": "3.12.2"
  }
 },
 "nbformat": 4,
 "nbformat_minor": 5
}
