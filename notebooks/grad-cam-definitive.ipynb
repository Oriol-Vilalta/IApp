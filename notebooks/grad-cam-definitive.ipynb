{
 "cells": [
  {
   "cell_type": "code",
   "id": "initial_id",
   "metadata": {
    "collapsed": true,
    "ExecuteTime": {
     "end_time": "2024-06-05T17:39:56.132095Z",
     "start_time": "2024-06-05T17:39:50.386177Z"
    }
   },
   "source": "from fastai.vision.all import *",
   "execution_count": 1,
   "outputs": []
  },
  {
   "metadata": {
    "ExecuteTime": {
     "end_time": "2024-06-05T17:39:56.233465Z",
     "start_time": "2024-06-05T17:39:56.132095Z"
    }
   },
   "cell_type": "code",
   "source": "learner = load_learner('./learns/fruits.pkl')",
   "id": "b5b3765156cd45b9",
   "execution_count": 2,
   "outputs": []
  },
  {
   "metadata": {
    "ExecuteTime": {
     "end_time": "2024-06-05T17:39:56.813928Z",
     "start_time": "2024-06-05T17:39:56.233465Z"
    }
   },
   "cell_type": "code",
   "source": [
    "dls = ImageDataLoaders.from_folder(\n",
    "    \"./dataset/train\",\n",
    "    valid_pct=0.2,\n",
    "    seed=42,\n",
    "    item_tfms=Resize(224)\n",
    ")"
   ],
   "id": "244fb7d10d6f6d37",
   "execution_count": 3,
   "outputs": []
  },
  {
   "metadata": {
    "ExecuteTime": {
     "end_time": "2024-06-05T17:39:56.929150Z",
     "start_time": "2024-06-05T17:39:56.814932Z"
    }
   },
   "cell_type": "code",
   "source": [
    "image = PILImage.create(\"./dataset/test/Strawberry/Strawberry (1423).jpeg\")\n",
    "image.show()"
   ],
   "id": "d6ec3c3ea35812c",
   "execution_count": 4,
   "outputs": []
  },
  {
   "metadata": {
    "ExecuteTime": {
     "end_time": "2024-06-05T17:39:57.065141Z",
     "start_time": "2024-06-05T17:39:56.929150Z"
    }
   },
   "cell_type": "code",
   "source": "learner.predict(image)",
   "id": "3e7be4bf1060e7e",
   "execution_count": 5,
   "outputs": []
  },
  {
   "metadata": {},
   "cell_type": "markdown",
   "source": "# Grad-CAM",
   "id": "bf3b2a2586c87463"
  },
  {
   "metadata": {
    "ExecuteTime": {
     "end_time": "2024-06-05T17:39:57.073652Z",
     "start_time": "2024-06-05T17:39:57.066150Z"
    }
   },
   "cell_type": "code",
   "source": "x, = first(dls.test_dl([image]))",
   "id": "56a9360f53f1a0b",
   "execution_count": 6,
   "outputs": []
  },
  {
   "metadata": {
    "ExecuteTime": {
     "end_time": "2024-06-05T17:39:57.078094Z",
     "start_time": "2024-06-05T17:39:57.074659Z"
    }
   },
   "cell_type": "code",
   "source": [
    "class Hook:\n",
    "    def hook_func(self, m, i, o):\n",
    "        self.stored = o.detach().clone()"
   ],
   "id": "4758be92755a3475",
   "execution_count": 7,
   "outputs": []
  },
  {
   "metadata": {
    "ExecuteTime": {
     "end_time": "2024-06-05T17:39:57.082119Z",
     "start_time": "2024-06-05T17:39:57.079100Z"
    }
   },
   "cell_type": "code",
   "source": [
    "hook_output = Hook()\n",
    "hook = learner.model[0].register_forward_hook(hook_output.hook_func)"
   ],
   "id": "71ef805f2639fa83",
   "execution_count": 8,
   "outputs": []
  },
  {
   "metadata": {
    "ExecuteTime": {
     "end_time": "2024-06-05T17:39:57.124292Z",
     "start_time": "2024-06-05T17:39:57.082119Z"
    }
   },
   "cell_type": "code",
   "source": "with torch.no_grad(): output = learner.model.eval()(x)",
   "id": "85d52b75aec18d44",
   "execution_count": 9,
   "outputs": []
  },
  {
   "metadata": {
    "ExecuteTime": {
     "end_time": "2024-06-05T17:39:57.131083Z",
     "start_time": "2024-06-05T17:39:57.126309Z"
    }
   },
   "cell_type": "code",
   "source": [
    "act = hook_output.stored[0]\n",
    "F.softmax(output, dim=-1)"
   ],
   "id": "c5bf4aedeaf9032b",
   "execution_count": 10,
   "outputs": []
  },
  {
   "metadata": {
    "ExecuteTime": {
     "end_time": "2024-06-05T17:39:57.135977Z",
     "start_time": "2024-06-05T17:39:57.132087Z"
    }
   },
   "cell_type": "code",
   "source": "dls.vocab",
   "id": "d86d600cf9605832",
   "execution_count": 11,
   "outputs": []
  },
  {
   "metadata": {
    "ExecuteTime": {
     "end_time": "2024-06-05T17:39:57.140806Z",
     "start_time": "2024-06-05T17:39:57.136986Z"
    }
   },
   "cell_type": "code",
   "source": "act.shape",
   "id": "c1f5fed1beb92533",
   "execution_count": 12,
   "outputs": []
  },
  {
   "metadata": {
    "ExecuteTime": {
     "end_time": "2024-06-05T17:39:57.158407Z",
     "start_time": "2024-06-05T17:39:57.141813Z"
    }
   },
   "cell_type": "code",
   "source": [
    "cam_map = torch.einsum('ck,kij->cij', learner.model[1][-1].weight, act)\n",
    "cam_map.shape"
   ],
   "id": "7439f0af7e802fd0",
   "execution_count": 13,
   "outputs": []
  },
  {
   "metadata": {
    "ExecuteTime": {
     "end_time": "2024-06-05T17:39:57.311239Z",
     "start_time": "2024-06-05T17:39:57.159416Z"
    }
   },
   "cell_type": "code",
   "source": [
    "x_dec = TensorImage(dls.train.decode((x,))[0][0])\n",
    "_ , ax = plt.subplots()\n",
    "x_dec.show(ctx=ax)\n",
    "ax.imshow(cam_map[1].detach().cpu(), alpha=0.6, extent=(0,224,224,0),\n",
    "              interpolation='bilinear', cmap='magma');"
   ],
   "id": "18de784ce067c8cb",
   "execution_count": 14,
   "outputs": []
  },
  {
   "metadata": {
    "ExecuteTime": {
     "end_time": "2024-06-05T17:39:57.315065Z",
     "start_time": "2024-06-05T17:39:57.312247Z"
    }
   },
   "cell_type": "code",
   "source": "hook.remove()",
   "id": "bd5d968a7c26efb3",
   "execution_count": 15,
   "outputs": []
  },
  {
   "metadata": {
    "ExecuteTime": {
     "end_time": "2024-06-05T17:39:57.319657Z",
     "start_time": "2024-06-05T17:39:57.316072Z"
    }
   },
   "cell_type": "code",
   "source": [
    "class Hook():\n",
    "    def __init__(self, m):\n",
    "        self.hook = m.register_forward_hook(self.hook_func)\n",
    "    def hook_func(self, m, i, o): self.stored = o.detach().clone()\n",
    "    def __enter__(self, * args): return self\n",
    "    def __exit__(self, *args): self.hook.remove()"
   ],
   "id": "425bfe207e4bfce",
   "execution_count": 16,
   "outputs": []
  },
  {
   "metadata": {},
   "cell_type": "markdown",
   "source": "# Grad-CAM",
   "id": "85c07aeda5fc8bd3"
  },
  {
   "metadata": {
    "ExecuteTime": {
     "end_time": "2024-06-05T17:39:57.323165Z",
     "start_time": "2024-06-05T17:39:57.320665Z"
    }
   },
   "cell_type": "code",
   "source": "",
   "id": "d1bdb58b03bd3990",
   "execution_count": 16,
   "outputs": []
  },
  {
   "metadata": {
    "ExecuteTime": {
     "end_time": "2024-06-05T17:39:57.326954Z",
     "start_time": "2024-06-05T17:39:57.323678Z"
    }
   },
   "cell_type": "code",
   "source": [
    "class HookBwd:\n",
    "    def __init__(self, m):\n",
    "        self.hook = m.register_backward_hook(self.hook_func)\n",
    "    def hook_func(self, m, gi, go): self.stored = go[0].detach().clone()\n",
    "    def __enter__(self, *args): return self\n",
    "    def __exit__(self, *args): return self.hook.remove()"
   ],
   "id": "dc7f032207827185",
   "execution_count": 17,
   "outputs": []
  },
  {
   "metadata": {
    "ExecuteTime": {
     "end_time": "2024-06-05T17:39:57.606180Z",
     "start_time": "2024-06-05T17:39:57.327958Z"
    }
   },
   "cell_type": "code",
   "source": [
    "cls = 1\n",
    "with HookBwd(learner.model[0]) as hookg:\n",
    "    with Hook(learner.model[0]) as hook:\n",
    "        output = learner.model.eval()(x.cuda())\n",
    "        act = hook.stored\n",
    "    output[0, cls]. backward()\n",
    "    grad = hookg.stored"
   ],
   "id": "d5ea572a3dc8c005",
   "execution_count": 18,
   "outputs": []
  },
  {
   "metadata": {},
   "cell_type": "code",
   "source": [
    "w = grad[0].mean(dim=[1,2], keepdim=True)\n",
    "cam_map = (w * act[0]).sum(0)\n",
    "\n",
    "_, ax = plt.subplots()\n",
    "x_dec.show(ctx=ax)\n",
    "ax.imshow(cam_map.detach().cpu(), alpha=0.6, extent=(0,224,224,0),\n",
    "          interpolation='bilinear', cmap='jet');"
   ],
   "id": "91aa687b6f73997",
   "execution_count": null,
   "outputs": []
  }
 ],
 "metadata": {
  "kernelspec": {
   "display_name": "Python 3",
   "language": "python",
   "name": "python3"
  },
  "language_info": {
   "codemirror_mode": {
    "name": "ipython",
    "version": 2
   },
   "file_extension": ".py",
   "mimetype": "text/x-python",
   "name": "python",
   "nbconvert_exporter": "python",
   "pygments_lexer": "ipython2",
   "version": "2.7.6"
  }
 },
 "nbformat": 4,
 "nbformat_minor": 5
}
