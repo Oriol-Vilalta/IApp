{
 "cells": [
  {
   "metadata": {},
   "cell_type": "markdown",
   "source": "1. Download libraries",
   "id": "88fe57eaba2ac64b"
  },
  {
   "metadata": {
    "ExecuteTime": {
     "end_time": "2024-06-06T10:05:14.530558Z",
     "start_time": "2024-06-06T10:05:10.305218Z"
    }
   },
   "cell_type": "code",
   "source": "from fastai.vision.all import *",
   "id": "e0cc0041ba9ad0",
   "execution_count": 1,
   "outputs": []
  },
  {
   "metadata": {},
   "cell_type": "markdown",
   "source": "2. Load dataset",
   "id": "b07975e8bdfd5be1"
  },
  {
   "metadata": {
    "ExecuteTime": {
     "end_time": "2024-06-06T10:05:16.082264Z",
     "start_time": "2024-06-06T10:05:14.531563Z"
    }
   },
   "cell_type": "code",
   "source": [
    "dls = ImageDataLoaders.from_folder(\n",
    "    \"./dataset/train\", # Path\n",
    "    valid_pct=0.2,\n",
    "    seed=42,\n",
    "    item_tfms=Resize(224)\n",
    ")\n",
    "\n",
    "print(dls.c) # Number of classes\n",
    "dls.show_batch()"
   ],
   "id": "685b3dc69d896daf",
   "execution_count": 2,
   "outputs": []
  },
  {
   "metadata": {
    "ExecuteTime": {
     "end_time": "2024-06-06T10:05:39.603842Z",
     "start_time": "2024-06-06T10:05:16.082264Z"
    }
   },
   "cell_type": "code",
   "source": [
    "learn = vision_learner(dls, resnet34, metrics=accuracy)\n",
    "learn.fine_tune(1)"
   ],
   "id": "a359ea76d4543b2a",
   "execution_count": 3,
   "outputs": []
  },
  {
   "metadata": {},
   "cell_type": "code",
   "source": "dls.vocab",
   "id": "952b565ea188d015",
   "execution_count": null,
   "outputs": []
  },
  {
   "metadata": {},
   "cell_type": "code",
   "source": [
    "image = PILImage.create(\"./dataset/valid/Mango/Mango (22).jpeg\")\n",
    "learn.predict(image)"
   ],
   "id": "fe048195e4897830",
   "execution_count": null,
   "outputs": []
  },
  {
   "metadata": {},
   "cell_type": "code",
   "source": "image.show()",
   "id": "9026dc748472a1dd",
   "execution_count": null,
   "outputs": []
  },
  {
   "metadata": {},
   "cell_type": "code",
   "source": "learn.export(\"../../learns/fruits.pkl\")",
   "id": "c89e3fabce4f2448",
   "execution_count": null,
   "outputs": []
  },
  {
   "metadata": {},
   "cell_type": "code",
   "source": "",
   "id": "d49287901eec3306",
   "execution_count": null,
   "outputs": []
  }
 ],
 "metadata": {
  "kernelspec": {
   "display_name": "Python 3",
   "language": "python",
   "name": "python3"
  },
  "language_info": {
   "codemirror_mode": {
    "name": "ipython",
    "version": 2
   },
   "file_extension": ".py",
   "mimetype": "text/x-python",
   "name": "python",
   "nbconvert_exporter": "python",
   "pygments_lexer": "ipython2",
   "version": "2.7.6"
  }
 },
 "nbformat": 4,
 "nbformat_minor": 5
}
